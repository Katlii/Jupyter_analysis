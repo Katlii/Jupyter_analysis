{
 "cells": [
  {
   "cell_type": "markdown",
   "id": "128cf0f9",
   "metadata": {},
   "source": [
    "jak metriky fungují. "
   ]
  },
  {
   "cell_type": "markdown",
   "id": "b1b09407",
   "metadata": {},
   "source": [
    "[1 1 1]\n",
    "[1 1 0]\n",
    "[1 0 1]\n",
    "[1 0 0]\n",
    "[0 0 0]\n",
    "[0 0 1]\n",
    "[0 1 0]\n",
    "[0 1 1]\n"
   ]
  },
  {
   "cell_type": "code",
   "execution_count": 2,
   "id": "cc28ecf3",
   "metadata": {},
   "outputs": [],
   "source": [
    "import pandas as pd\n",
    "import numpy as np\n",
    "import matplotlib.pyplot as plt\n",
    "from scipy.spatial import distance"
   ]
  },
  {
   "cell_type": "markdown",
   "id": "8acac5ce",
   "metadata": {},
   "source": [
    "Euclidean distance"
   ]
  },
  {
   "cell_type": "code",
   "execution_count": 33,
   "id": "fca5225e",
   "metadata": {},
   "outputs": [
    {
     "name": "stdout",
     "output_type": "stream",
     "text": [
      "1) 3.3166247903554\n",
      "2) 1.0\n",
      "3) 1.4142135623730951\n",
      "4) 1.0\n",
      "5) 1.7320508075688772\n",
      "6) 1.4142135623730951\n",
      "7) 1.4142135623730951\n",
      "8) 1.0\n"
     ]
    }
   ],
   "source": [
    "a=[1, 0, 0, 0, 0, 0, 1, 0, 0, 0, 0, 0, 0, 0, 0, 0, 0, 0, 0, 0, 0, 0, 0, 0, 0, 0, 0, 0, 0, 0, 0, 0, 0, 1, 0, 0, 0, 0, 0, 0, 0, 1, 0, 1, 0, 0, 0, 0, 1, 0, 0, 0, 0, 0, 0, 0, 0, 0, 0, 0, 0, 0, 0, 0, 0, 0, 0, 0, 0, 0, 0, 0, 0, 0, 0, 0, 0, 0, 0, 0, 0, 0, 0, 0, 0, 0, 0, 0, 0, 0, 0, 0, 0, 0, 0, 0, 0, 0, 0, 0, 0, 0, 0, 0, 0, 0, 0]\n",
    "b=[0, 1, 1, 0, 0, 0, 0, 0, 0, 0, 0, 0, 0, 0, 0, 0, 0, 0, 0, 0, 0, 0, 0, 0, 0, 0, 0, 0, 0, 0, 1, 0, 0, 0, 0, 0, 1, 1, 0, 0, 0, 0, 0, 0, 0, 0, 0, 0, 0, 0, 0, 0, 0, 0, 0, 0, 0, 0, 0, 0, 0, 0, 0, 0, 0, 0, 0, 0, 0, 0, 0, 0, 0, 0, 0, 0, 0, 0, 0, 0, 0, 0, 0, 0, 0, 0, 0, 0, 0, 0, 0, 0, 0, 0, 0, 0, 0, 0, 0, 0, 0, 0, 0, 0, 0, 0, 0]\n",
    "print('1)', distance.euclidean(a, b))\n",
    "print('2)', distance.euclidean([1, 1, 1], [1, 0, 1]))\n",
    "print('3)', distance.euclidean([1, 1, 1], [1, 0, 0]))\n",
    "print('4)', distance.euclidean([1, 1, 1], [1, 1, 0]))\n",
    "print('5)', distance.euclidean([1, 1, 1], [0, 0, 0]))\n",
    "print('6)', distance.euclidean([1, 1, 1], [0, 0, 1]))\n",
    "print('7)', distance.euclidean([1, 1, 1], [0, 1, 0]))\n",
    "print('8)', distance.euclidean([1, 1, 1], [0, 1, 1]))\n"
   ]
  },
  {
   "cell_type": "markdown",
   "id": "e5e5bac7",
   "metadata": {},
   "source": [
    "Manhattan distance"
   ]
  },
  {
   "cell_type": "code",
   "execution_count": 3,
   "id": "d2c1d72c",
   "metadata": {},
   "outputs": [
    {
     "name": "stdout",
     "output_type": "stream",
     "text": [
      "1) 11\n",
      "1) 1\n",
      "2) 1\n",
      "3) 2\n",
      "4) 1\n",
      "5) 3\n",
      "6) 2\n",
      "7) 2\n",
      "8) 1\n"
     ]
    }
   ],
   "source": [
    "a=[1, 0, 0, 0, 0, 0, 1, 0, 0, 0, 0, 0, 0, 0, 0, 0, 0, 0, 0, 0, 0, 0, 0, 0, 0, 0, 0, 0, 0, 0, 0, 0, 0, 1, 0, 0, 0, 0, 0, 0, 0, 1, 0, 1, 0, 0, 0, 0, 1, 0, 0, 0, 0, 0, 0, 0, 0, 0, 0, 0, 0, 0, 0, 0, 0, 0, 0, 0, 0, 0, 0, 0, 0, 0, 0, 0, 0, 0, 0, 0, 0, 0, 0, 0, 0, 0, 0, 0, 0, 0, 0, 0, 0, 0, 0, 0, 0, 0, 0, 0, 0, 0, 0, 0, 0, 0, 0]\n",
    "b=[]\n",
    "print('1)', distance.cityblock(a, b))\n",
    "print('1)', distance.cityblock([1, 1, 1], [1, 1, 0]))\n",
    "print('2)', distance.cityblock([1, 1, 1], [1, 0, 1]))\n",
    "print('3)', distance.cityblock([1, 1, 1], [1, 0, 0]))\n",
    "print('4)', distance.cityblock([1, 1, 1], [1, 1, 0]))\n",
    "print('5)', distance.cityblock([1, 1, 1], [0, 0, 0]))\n",
    "print('6)', distance.cityblock([1, 1, 1], [0, 0, 1]))\n",
    "print('7)', distance.cityblock([1, 1, 1], [0, 1, 0]))\n",
    "print('8)', distance.cityblock([1, 1, 1], [0, 1, 1]))"
   ]
  },
  {
   "cell_type": "markdown",
   "id": "3bf0bc8e",
   "metadata": {},
   "source": [
    "Chebyshev distance"
   ]
  },
  {
   "cell_type": "code",
   "execution_count": 27,
   "id": "8649d4a6",
   "metadata": {},
   "outputs": [
    {
     "name": "stdout",
     "output_type": "stream",
     "text": [
      "1) 1\n",
      "2) 1\n",
      "3) 1\n",
      "4) 1\n",
      "5) 1\n",
      "6) 1\n",
      "7) 1\n",
      "8) 1\n"
     ]
    }
   ],
   "source": [
    "print('1)', distance.chebyshev([1, 1, 1], [1, 1, 0]))\n",
    "print('2)', distance.chebyshev([1, 1, 1], [1, 0, 1]))\n",
    "print('3)', distance.chebyshev([1, 1, 1], [1, 0, 0]))\n",
    "print('4)', distance.chebyshev([1, 1, 1], [1, 1, 0]))\n",
    "print('5)', distance.chebyshev([1, 1, 1], [0, 0, 0]))\n",
    "print('6)', distance.chebyshev([1, 1, 1], [0, 0, 1]))\n",
    "print('7)', distance.chebyshev([1, 1, 1], [0, 1, 0]))\n",
    "print('8)', distance.chebyshev([1, 1, 1], [0, 1, 1]))"
   ]
  },
  {
   "cell_type": "markdown",
   "id": "e998f75e",
   "metadata": {},
   "source": [
    "Canberra distance"
   ]
  },
  {
   "cell_type": "code",
   "execution_count": 15,
   "id": "45d510f5",
   "metadata": {},
   "outputs": [
    {
     "name": "stdout",
     "output_type": "stream",
     "text": [
      "1) 1.0\n",
      "2) 1.0\n",
      "3) 2.0\n",
      "4) 1.0\n",
      "5) 3.0\n",
      "6) 2.0\n",
      "7) 2.0\n",
      "8) 1.0\n"
     ]
    }
   ],
   "source": [
    "print('1)', distance.canberra([1, 1, 1], [1, 1, 0]))\n",
    "print('2)', distance.canberra([1, 1, 1], [1, 0, 1]))\n",
    "print('3)', distance.canberra([1, 1, 1], [1, 0, 0]))\n",
    "print('4)', distance.canberra([1, 1, 1], [1, 1, 0]))\n",
    "print('5)', distance.canberra([1, 1, 1], [0, 0, 0]))\n",
    "print('6)', distance.canberra([1, 1, 1], [0, 0, 1]))\n",
    "print('7)', distance.canberra([1, 1, 1], [0, 1, 0]))\n",
    "print('8)', distance.canberra([1, 1, 1], [0, 1, 1]))"
   ]
  },
  {
   "cell_type": "markdown",
   "id": "21c4acaa",
   "metadata": {},
   "source": [
    "Cosine similarity"
   ]
  },
  {
   "cell_type": "code",
   "execution_count": 17,
   "id": "4ee38422",
   "metadata": {},
   "outputs": [
    {
     "name": "stdout",
     "output_type": "stream",
     "text": [
      "1) 0.18350341907227397\n",
      "2) 0.18350341907227397\n",
      "3) 0.42264973081037427\n",
      "4) 0.18350341907227397\n",
      "5) 0\n",
      "6) 0.42264973081037427\n",
      "7) 0.42264973081037427\n",
      "8) 0.18350341907227397\n"
     ]
    }
   ],
   "source": [
    "print('1)', distance.cosine([1, 1, 1], [1, 1, 0]))\n",
    "print('2)', distance.cosine([1, 1, 1], [1, 0, 1]))\n",
    "print('3)', distance.cosine([1, 1, 1], [1, 0, 0]))\n",
    "print('4)', distance.cosine([1, 1, 1], [1, 1, 0]))\n",
    "print('5)', distance.cosine([1, 1, 1], [0, 0, 0]))\n",
    "print('6)', distance.cosine([1, 1, 1], [0, 0, 1]))\n",
    "print('7)', distance.cosine([1, 1, 1], [0, 1, 0]))\n",
    "print('8)', distance.cosine([1, 1, 1], [0, 1, 1]))"
   ]
  },
  {
   "cell_type": "code",
   "execution_count": null,
   "id": "2e49bc1d",
   "metadata": {},
   "outputs": [],
   "source": []
  }
 ],
 "metadata": {
  "kernelspec": {
   "display_name": "Python 3 (ipykernel)",
   "language": "python",
   "name": "python3"
  },
  "language_info": {
   "codemirror_mode": {
    "name": "ipython",
    "version": 3
   },
   "file_extension": ".py",
   "mimetype": "text/x-python",
   "name": "python",
   "nbconvert_exporter": "python",
   "pygments_lexer": "ipython3",
   "version": "3.10.0"
  }
 },
 "nbformat": 4,
 "nbformat_minor": 5
}
